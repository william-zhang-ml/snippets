{
 "cells": [
  {
   "cell_type": "code",
   "execution_count": 1,
   "id": "cbb17c93",
   "metadata": {},
   "outputs": [],
   "source": [
    "import torch\n",
    "from torch import Tensor\n",
    "\n",
    "\n",
    "def add_coord_chans(tens: Tensor) -> Tensor:\n",
    "    \"\"\"\n",
    "    Add new coordinate channels (ex: row and col) to a tensor.\n",
    "    Assume the first dimension is batch size.\n",
    "    Assume the second dimension is number of channels (width).\n",
    "\n",
    "    Args:\n",
    "        tens: tensor to add channels to\n",
    "\n",
    "    Returns: input tensor with coordinate channels\n",
    "    \"\"\"\n",
    "    batch_size, _, *dims = tens.shape\n",
    "    coords = [torch.arange(d) for d in dims]\n",
    "    chans = torch.meshgrid(coords, indexing='ij')\n",
    "\n",
    "    # repeat across batch\n",
    "    tile_dims = (batch_size, 1, *[1 for _ in range(len(dims))])\n",
    "    chans = [torch.tile(c, tile_dims) for c in chans]\n",
    "\n",
    "    return torch.cat([tens, *chans], dim=1)"
   ]
  },
  {
   "cell_type": "code",
   "execution_count": null,
   "id": "b031235b",
   "metadata": {},
   "outputs": [],
   "source": []
  }
 ],
 "metadata": {
  "kernelspec": {
   "display_name": "ml-dev-env",
   "language": "python",
   "name": "ml-dev-env"
  },
  "language_info": {
   "codemirror_mode": {
    "name": "ipython",
    "version": 3
   },
   "file_extension": ".py",
   "mimetype": "text/x-python",
   "name": "python",
   "nbconvert_exporter": "python",
   "pygments_lexer": "ipython3",
   "version": "3.7.4"
  }
 },
 "nbformat": 4,
 "nbformat_minor": 5
}
