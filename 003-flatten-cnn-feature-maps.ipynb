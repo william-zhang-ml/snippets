{
 "cells": [
  {
   "cell_type": "code",
   "execution_count": 1,
   "id": "8bc0d76c",
   "metadata": {},
   "outputs": [],
   "source": [
    "import torch\n",
    "from torch import Tensor\n",
    "\n",
    "\n",
    "def append_coord_chans(tens: Tensor) -> Tensor:\n",
    "    \"\"\"\n",
    "    Add new coordinate channels (ex: row and col) to a tensor.\n",
    "    Assume the first dimension is batch size.\n",
    "    Assume the second dimension is number of channels (network width).\n",
    "\n",
    "    Args:\n",
    "        tens: tensor to add channels to\n",
    "\n",
    "    Returns: input tensor with coordinate channels\n",
    "    \"\"\"\n",
    "    batch_size, _, *dims = tens.shape\n",
    "    coords = [torch.arange(d) for d in dims]\n",
    "    chans = torch.meshgrid(coords, indexing='ij')\n",
    "\n",
    "    # repeat across batch\n",
    "    tile_dims = (batch_size, 1, *[1 for _ in range(len(dims))])\n",
    "    chans = [torch.tile(c, tile_dims) for c in chans]\n",
    "\n",
    "    return torch.cat([tens, *chans], dim=1)"
   ]
  },
  {
   "cell_type": "code",
   "execution_count": 2,
   "id": "6169bcee",
   "metadata": {},
   "outputs": [],
   "source": [
    "from typing import List\n",
    "from torch import Tensor\n",
    "\n",
    "\n",
    "def flatten_cnn_featmaps(tensor: Tensor) -> List[Tensor]:\n",
    "    \"\"\"\n",
    "    Convert CNN feature maps to feature table rows.\n",
    "\n",
    "    Args:\n",
    "        tensor: batch of feature maps to convert\n",
    "\n",
    "    Returns: flattened feature maps w/spatial coordinates kept as features\n",
    "    \"\"\"\n",
    "    # append spatial index channels (will be same across batch)\n",
    "    tensor_aug = append_coord_chans(tensor)\n",
    "\n",
    "    # flatten spatial dimension to get final features\n",
    "    return [t.view(t.shape[0], -1).T for t in tensor_aug]"
   ]
  },
  {
   "cell_type": "code",
   "execution_count": null,
   "id": "20ab21ad",
   "metadata": {},
   "outputs": [],
   "source": []
  }
 ],
 "metadata": {
  "kernelspec": {
   "display_name": "ml-dev-env",
   "language": "python",
   "name": "ml-dev-env"
  },
  "language_info": {
   "codemirror_mode": {
    "name": "ipython",
    "version": 3
   },
   "file_extension": ".py",
   "mimetype": "text/x-python",
   "name": "python",
   "nbconvert_exporter": "python",
   "pygments_lexer": "ipython3",
   "version": "3.7.4"
  }
 },
 "nbformat": 4,
 "nbformat_minor": 5
}
