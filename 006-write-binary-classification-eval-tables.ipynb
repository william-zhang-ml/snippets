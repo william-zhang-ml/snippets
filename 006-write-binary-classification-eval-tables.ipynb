{
 "cells": [
  {
   "cell_type": "code",
   "execution_count": 1,
   "id": "7dc54168",
   "metadata": {},
   "outputs": [],
   "source": [
    "from typing import Callable\n",
    "import numpy as np\n",
    "import pandas as pd\n",
    "from sklearn.metrics import roc_auc_score, roc_curve\n",
    "import torch\n",
    "from torch import Tensor\n",
    "\n",
    "\n",
    "def save_cls_csv(fileroot: str,\n",
    "                 targ: Tensor,\n",
    "                 score: Tensor,\n",
    "                 criterion: Callable) -> float:\n",
    "    \"\"\"\n",
    "    PyTorch utility function for saving binary classification model outputs.\n",
    "\n",
    "    Args:\n",
    "        fileroot:  tag used to generate CSV-file names\n",
    "        targ:      (N, ) binary target label vector\n",
    "        score:     (N, ) classification score vector\n",
    "        criterion: loss function such as nn.BCEWithLogitsLoss,\n",
    "                   function will be passed scores then target\n",
    "    \"\"\"\n",
    "    # outputs table\n",
    "    with torch.no_grad():\n",
    "        loss = criterion(score, targ.float())\n",
    "        loss = loss.cpu().numpy()\n",
    "    targ = targ.detach().cpu().numpy()\n",
    "    score = score.detach().cpu().numpy()\n",
    "    df_out = pd.DataFrame(\n",
    "        np.stack([score, targ, loss], axis=1),\n",
    "        columns=['score', 'targ', 'loss'])\n",
    "    df_out.to_csv(f'{fileroot}-outp.csv')\n",
    "\n",
    "    # ROC curve table\n",
    "    fpr, tpr, thr = roc_curve(targ, score)\n",
    "    auc = roc_auc_score(targ, score)\n",
    "    df_roc = pd.DataFrame(\n",
    "        np.stack([fpr, tpr, thr], axis=1),\n",
    "        columns=['fpr', 'tpr', 'thr'])\n",
    "    df_roc.to_csv(f'{fileroot}-roc.csv')\n",
    "\n",
    "    return auc"
   ]
  },
  {
   "cell_type": "code",
   "execution_count": null,
   "id": "caf8edd7",
   "metadata": {},
   "outputs": [],
   "source": []
  }
 ],
 "metadata": {
  "kernelspec": {
   "display_name": "ml-dev-env",
   "language": "python",
   "name": "ml-dev-env"
  },
  "language_info": {
   "codemirror_mode": {
    "name": "ipython",
    "version": 3
   },
   "file_extension": ".py",
   "mimetype": "text/x-python",
   "name": "python",
   "nbconvert_exporter": "python",
   "pygments_lexer": "ipython3",
   "version": "3.7.4"
  }
 },
 "nbformat": 4,
 "nbformat_minor": 5
}
