{
 "cells": [
  {
   "cell_type": "code",
   "execution_count": 1,
   "id": "6edf221d",
   "metadata": {},
   "outputs": [],
   "source": [
    "from typing import Tuple\n",
    "import torch\n",
    "from torch import Tensor\n",
    "from torchvision.ops import box_iou\n",
    "\n",
    "\n",
    "def iou_argmax(widthheight1: Tensor,\n",
    "               widthheight2: Tensor) -> Tuple[Tensor, Tensor]:\n",
    "    \"\"\"\n",
    "    Matches boxes between 2 sets based on intersection-over-union (IOU).\n",
    "\n",
    "    Args:\n",
    "        widthheight1: M x 2 matrix of box width, box height\n",
    "        widthheight2: N x 2 matrix of box width, box height\n",
    "\n",
    "    Returns: pairwise IOU, M-vector of which set 2 box matches each set 1 box\n",
    "    \"\"\"\n",
    "    boxes1 = torch.stack([\n",
    "        -widthheight1[:, 0] / 2,\n",
    "        -widthheight1[:, 1] / 2,\n",
    "        widthheight1[:, 0] / 2,\n",
    "        widthheight1[:, 1] / 2\n",
    "    ], dim=1)\n",
    "    boxes2 = torch.stack([\n",
    "        -widthheight2[:, 0] / 2,\n",
    "        -widthheight2[:, 1] / 2,\n",
    "        widthheight2[:, 0] / 2,\n",
    "        widthheight2[:, 1] / 2\n",
    "    ], dim=1)\n",
    "    iou = box_iou(boxes1, boxes2)  # expects xyxy format\n",
    "    return iou, iou.argmax(dim=1)"
   ]
  },
  {
   "cell_type": "code",
   "execution_count": null,
   "id": "2103b5bd",
   "metadata": {},
   "outputs": [],
   "source": []
  }
 ],
 "metadata": {
  "kernelspec": {
   "display_name": "ml-dev-env",
   "language": "python",
   "name": "ml-dev-env"
  },
  "language_info": {
   "codemirror_mode": {
    "name": "ipython",
    "version": 3
   },
   "file_extension": ".py",
   "mimetype": "text/x-python",
   "name": "python",
   "nbconvert_exporter": "python",
   "pygments_lexer": "ipython3",
   "version": "3.7.4"
  }
 },
 "nbformat": 4,
 "nbformat_minor": 5
}
