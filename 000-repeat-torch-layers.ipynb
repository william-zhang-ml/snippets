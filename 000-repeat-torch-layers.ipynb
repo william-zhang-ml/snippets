{
 "cells": [
  {
   "cell_type": "code",
   "execution_count": 1,
   "id": "24be9d6f",
   "metadata": {},
   "outputs": [],
   "source": [
    "from torch.nn import Sequential\n",
    "\n",
    "\n",
    "def repeat_layer(n_layers: int, layer: type, *args, **kwargs) -> Sequential:\n",
    "    \"\"\"\n",
    "    Construct a sequence of identical layers.\n",
    "\n",
    "    Args:\n",
    "        n_layers: number of layers\n",
    "        layer:    layer instance initializer/constructor\n",
    "        *args:    layer arguments\n",
    "        **kwargs: layer arguments\n",
    "\n",
    "    Returns: sequence of identical layers\n",
    "    \"\"\"\n",
    "    layers = [layer(*args, **kwargs) for _ in range(n_layers)]\n",
    "    block = Sequential(*layers)\n",
    "    return block"
   ]
  },
  {
   "cell_type": "code",
   "execution_count": null,
   "id": "c579565a",
   "metadata": {},
   "outputs": [],
   "source": []
  }
 ],
 "metadata": {
  "kernelspec": {
   "display_name": "ml-dev-env",
   "language": "python",
   "name": "ml-dev-env"
  },
  "language_info": {
   "codemirror_mode": {
    "name": "ipython",
    "version": 3
   },
   "file_extension": ".py",
   "mimetype": "text/x-python",
   "name": "python",
   "nbconvert_exporter": "python",
   "pygments_lexer": "ipython3",
   "version": "3.7.4"
  }
 },
 "nbformat": 4,
 "nbformat_minor": 5
}
