{
 "cells": [
  {
   "cell_type": "code",
   "execution_count": 1,
   "id": "0bb426fb",
   "metadata": {},
   "outputs": [],
   "source": [
    "import numpy as np\n",
    "import pandas as pd\n",
    "\n",
    "\n",
    "def float64_to_float32(table: pd.DataFrame) -> pd.DataFrame:\n",
    "    \"\"\" Returns: copy of table w/single-precision floats. \"\"\"\n",
    "    table = table.copy()\n",
    "    for col in table:\n",
    "        if table[col].dtype == np.float64:\n",
    "            table[col] = table[col].astype(np.float32)\n",
    "    return table"
   ]
  },
  {
   "cell_type": "code",
   "execution_count": null,
   "id": "5f6612be",
   "metadata": {},
   "outputs": [],
   "source": []
  }
 ],
 "metadata": {
  "kernelspec": {
   "display_name": "ml-dev-env",
   "language": "python",
   "name": "ml-dev-env"
  },
  "language_info": {
   "codemirror_mode": {
    "name": "ipython",
    "version": 3
   },
   "file_extension": ".py",
   "mimetype": "text/x-python",
   "name": "python",
   "nbconvert_exporter": "python",
   "pygments_lexer": "ipython3",
   "version": "3.7.4"
  }
 },
 "nbformat": 4,
 "nbformat_minor": 5
}
